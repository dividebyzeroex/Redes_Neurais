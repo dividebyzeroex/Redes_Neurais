{
  "cells": [
    {
      "cell_type": "markdown",
      "metadata": {
        "id": "view-in-github",
        "colab_type": "text"
      },
      "source": [
        "<a href=\"https://colab.research.google.com/github/dividebyzeroex/Redes_Neurais/blob/Porta_XOR/PortaXOR.ipynb\" target=\"_parent\"><img src=\"https://colab.research.google.com/assets/colab-badge.svg\" alt=\"Open In Colab\"/></a>"
      ]
    },
    {
      "cell_type": "markdown",
      "id": "9889b99d",
      "metadata": {
        "id": "9889b99d"
      },
      "source": [
        "## Porta XOR Algoritmo de Aprendizado\n",
        "### BackPropagation"
      ]
    },
    {
      "cell_type": "code",
      "execution_count": 113,
      "id": "2aa9c449",
      "metadata": {
        "id": "2aa9c449"
      },
      "outputs": [],
      "source": [
        "#Modelso de classificação sao utilizados para predizer uma valor dentro das classes informadas no treinamento,\n",
        "#isso de acordo omcom as featres fornacidas"
      ]
    },
    {
      "cell_type": "code",
      "execution_count": 130,
      "id": "ebaa67eb",
      "metadata": {
        "id": "ebaa67eb"
      },
      "outputs": [],
      "source": [
        "#Objetivo: porta Xor com rede neural usando feedfoward\n",
        "import pandas as pd #lib para trabalhar com tabelas\n",
        "import numpy as np #lib para trabalhar com arrays"
      ]
    },
    {
      "cell_type": "code",
      "source": [
        "import numpy as np\n",
        "\n",
        "# Define the activation function (sigmoid)\n",
        "def sigmoid(x):\n",
        "    return 1 / (1 + np.exp(-x))\n",
        "\n",
        "# Define the sum function (weighted sum of inputs)\n",
        "def sum_perceptron(x, w):\n",
        "    return np.dot(x, w)\n",
        "\n",
        "# Initialize weights with small random values (this will now be fixed)\n",
        "def initialize_weights(size):\n",
        "    return np.random.rand(*size)\n",
        "\n",
        "#taxa de erro\n",
        "def calculate_error(y_true, y_pred):\n",
        "    return y_true - y_pred\n",
        "\n",
        "# Feedforward prediction function\n",
        "def predict(X, hidden_weights, output_weights):\n",
        "    hidden_layer_input = np.dot(X, hidden_weights)\n",
        "    hidden_layer_output = sigmoid(hidden_layer_input)\n",
        "    output_layer_input = np.dot(hidden_layer_output, output_weights)\n",
        "    predicted_output = sigmoid(output_layer_input)\n",
        "    return predicted_output\n",
        "\n",
        "# XOR input and output\n",
        "X = np.array([[0, 0], [0, 1], [1, 0], [1, 1]])\n",
        "y = np.array([[0], [1], [1], [0]])\n",
        "\n",
        "# Initialize weights\n",
        "hidden_neurons = 3\n",
        "hidden_weights = initialize_weights((2, hidden_neurons))\n",
        "output_weights = initialize_weights((hidden_neurons, 1))\n",
        "\n",
        "# Training parameters\n",
        "learning_rate = 0.1  # How much to adjust weights in each step\n",
        "epochs = 10000  # Number of training iterations\n",
        "\n",
        "# Training loop\n",
        "for epoch in range(epochs):\n",
        "    # Forward pass\n",
        "    hidden_layer_input = np.dot(X, hidden_weights)\n",
        "    hidden_layer_output = sigmoid(hidden_layer_input)\n",
        "    output_layer_input = np.dot(hidden_layer_output, output_weights)\n",
        "    predicted_output = sigmoid(output_layer_input)\n",
        "\n",
        "    # Calculate error\n",
        "    error = calculate_error(y, predicted_output)\n",
        "\n",
        "    # Backpropagation\n",
        "    output_error = error * predicted_output * (1 - predicted_output)  # Output layer error\n",
        "    hidden_error = output_error.dot(output_weights.T) * hidden_layer_output * (1 - hidden_layer_output)  # Hidden layer error\n",
        "\n",
        "    # Update weights\n",
        "    output_weights += hidden_layer_output.T.dot(output_error) * learning_rate\n",
        "    hidden_weights += X.T.dot(hidden_error) * learning_rate\n",
        "\n",
        "# Predict outputs after training\n",
        "predicted_output = predict(X, hidden_weights, output_weights)\n",
        "\n",
        "print(\"\\nPredições após o treinamento:\")\n",
        "for i in range(len(X)):\n",
        "    print(f\"Saída: {X[i]}, Saída Predita: {predicted_output[i][0]:.4f}, Saída Esperada: {y[i][0]}\")"
      ],
      "metadata": {
        "colab": {
          "base_uri": "https://localhost:8080/"
        },
        "id": "AFp693m8zaw9",
        "outputId": "a007b0c3-d1b1-49b3-ad81-2b5bfdb6ee3a"
      },
      "id": "AFp693m8zaw9",
      "execution_count": 294,
      "outputs": [
        {
          "output_type": "stream",
          "name": "stdout",
          "text": [
            "\n",
            "Predições após o treinamento:\n",
            "Saída: [0 0], Saída Predita: 0.1370, Saída Esperada: 0\n",
            "Saída: [0 1], Saída Predita: 0.9056, Saída Esperada: 1\n",
            "Saída: [1 0], Saída Predita: 0.9058, Saída Esperada: 1\n",
            "Saída: [1 1], Saída Predita: 0.0636, Saída Esperada: 0\n"
          ]
        }
      ]
    },
    {
      "cell_type": "code",
      "source": [
        "()"
      ],
      "metadata": {
        "id": "G2OwwQLg4l3f"
      },
      "id": "G2OwwQLg4l3f",
      "execution_count": null,
      "outputs": []
    }
  ],
  "metadata": {
    "kernelspec": {
      "display_name": "Python 3 (ipykernel)",
      "language": "python",
      "name": "python3"
    },
    "language_info": {
      "codemirror_mode": {
        "name": "ipython",
        "version": 3
      },
      "file_extension": ".py",
      "mimetype": "text/x-python",
      "name": "python",
      "nbconvert_exporter": "python",
      "pygments_lexer": "ipython3",
      "version": "3.9.7"
    },
    "colab": {
      "provenance": [],
      "include_colab_link": true
    }
  },
  "nbformat": 4,
  "nbformat_minor": 5
}